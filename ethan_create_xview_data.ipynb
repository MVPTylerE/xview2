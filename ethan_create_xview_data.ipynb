{
 "cells": [
  {
   "cell_type": "code",
   "execution_count": 3,
   "metadata": {},
   "outputs": [],
   "source": [
    "%load_ext autoreload\n",
    "%autoreload 2"
   ]
  },
  {
   "cell_type": "code",
   "execution_count": 4,
   "metadata": {},
   "outputs": [],
   "source": [
    "import glob\n",
    "import random\n",
    "import datetime"
   ]
  },
  {
   "cell_type": "code",
   "execution_count": 5,
   "metadata": {},
   "outputs": [],
   "source": [
    "from annotation_formatter import LocalizationAnnotationFormatter, DamageAnnotationFormatter"
   ]
  },
  {
   "cell_type": "code",
   "execution_count": 6,
   "metadata": {},
   "outputs": [],
   "source": [
    "# http://code.activestate.com/recipes/303060-group-a-list-into-sequential-n-tuples/\n",
    "def group(lst, n):\n",
    "    \"\"\"group([0,3,4,10,2,3], 2) => [(0,3), (4,10), (2,3)]\n",
    "    \n",
    "    Group a list into consecutive n-tuples. Incomplete tuples are\n",
    "    discarded e.g.\n",
    "    \n",
    "    >>> group(range(10), 3)\n",
    "    [(0, 1, 2), (3, 4, 5), (6, 7, 8)]\n",
    "    \"\"\"\n",
    "    return zip(*[lst[i::n] for i in range(n)])"
   ]
  },
  {
   "cell_type": "code",
   "execution_count": 15,
   "metadata": {},
   "outputs": [],
   "source": [
    "# each file corresponds to an image\n",
    "annotation_files = sorted(glob.glob(\"data/train/labels/*\"))\n",
    "annotation_files_as_pairs = list(group(annotation_files, 2))\n",
    "random.Random(4).shuffle(annotation_files_as_pairs)\n",
    "index = int(0.99*len(annotation_files_as_pairs))\n",
    "# now create the lists\n",
    "pre_train_files = []\n",
    "pre_val_files = []\n",
    "post_train_files = []\n",
    "post_val_files = []\n",
    "for (post, pre) in annotation_files_as_pairs[0:index]:\n",
    "    pre_train_files.append(pre)\n",
    "    post_train_files.append(post)\n",
    "for (post, pre) in annotation_files_as_pairs[index:]:\n",
    "    pre_val_files.append(pre)\n",
    "    post_val_files.append(post)"
   ]
  },
  {
   "cell_type": "code",
   "execution_count": 16,
   "metadata": {
    "scrolled": true
   },
   "outputs": [
    {
     "name": "stdout",
     "output_type": "stream",
     "text": [
      "LOCALIZATION\n",
      "Num train files: 9076\n",
      "Num val files: 92\n"
     ]
    }
   ],
   "source": [
    "print(\"LOCALIZATION\")\n",
    "print(\"Num train files: {}\\nNum val files: {}\".format(len(pre_train_files), len(pre_val_files)))"
   ]
  },
  {
   "cell_type": "code",
   "execution_count": null,
   "metadata": {},
   "outputs": [],
   "source": [
    "print(\"DAMAGE\")\n",
    "print(\"Num train files: {}\\nNum val files: {}\".format(len(post_train_files), len(post_val_files)))"
   ]
  },
  {
   "cell_type": "code",
   "execution_count": null,
   "metadata": {},
   "outputs": [],
   "source": [
    "# create train and validation datasets for instance segmentation\n",
    "train_annotation_formatter = LocalizationAnnotationFormatter(instance_segmentation=True)\n",
    "for filename in pre_train_files:\n",
    "    train_annotation_formatter.add_image_from_filename(filename)\n",
    "train_annotation_formatter.write_to_json(\"./datasets/xview_instance_segmentation_dataset_train.json\")\n",
    "\n",
    "val_annotation_formatter = LocalizationAnnotationFormatter(instance_segmentation=True)\n",
    "for filename in pre_val_files:\n",
    "    val_annotation_formatter.add_image_from_filename(filename)\n",
    "val_annotation_formatter.write_to_json(\"./datasets/xview_instance_segmentation_dataset_val.json\")"
   ]
  },
  {
   "cell_type": "code",
   "execution_count": null,
   "metadata": {},
   "outputs": [],
   "source": [
    "# instance segmentation and damage assessment, train\n",
    "damage_annotation_formatter = DamageAnnotationFormatter(instance_segmentation=True)\n",
    "for filename in post_train_files:\n",
    "    damage_annotation_formatter.add_image_from_filename(filename)\n",
    "damage_annotation_formatter.write_to_json(\"./datasets/xview_damage_assessment_instance_segmentation_dataset_train.json\")\n",
    "\n",
    "# instance segmentation and damage assessment, val\n",
    "damage_annotation_formatter = DamageAnnotationFormatter(instance_segmentation=True)\n",
    "for filename in post_val_files:\n",
    "    damage_annotation_formatter.add_image_from_filename(filename)\n",
    "damage_annotation_formatter.write_to_json(\"./datasets/xview_damage_assessment_instance_segmentation_dataset_val.json\")"
   ]
  }
 ],
 "metadata": {
  "kernelspec": {
   "display_name": "Python 3",
   "language": "python",
   "name": "python3"
  },
  "language_info": {
   "codemirror_mode": {
    "name": "ipython",
    "version": 3
   },
   "file_extension": ".py",
   "mimetype": "text/x-python",
   "name": "python",
   "nbconvert_exporter": "python",
   "pygments_lexer": "ipython3",
   "version": "3.7.3"
  }
 },
 "nbformat": 4,
 "nbformat_minor": 2
}
